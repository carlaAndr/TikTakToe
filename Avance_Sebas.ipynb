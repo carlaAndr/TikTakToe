{
 "cells": [
  {
   "cell_type": "code",
   "execution_count": null,
   "metadata": {},
   "outputs": [],
   "source": [
    "\"\"\"\n",
    "Verifica si hay algún ganador en un juego de gato.\n",
    "\n",
    "Parametros:\n",
    "    - gatoInterno: [arreglo] es el juego de gato a evaluar\n",
    "Return:\n",
    "    - [int] El jugador ganador (1 o -1), o 0 si no hay ganador\n",
    "\"\"\"\n",
    "def checarGanar(gatoInterno):\n",
    "    # Posibles combinaciones ganadoras\n",
    "    combinaciones_ganadoras = [\n",
    "        (0, 1, 2), (3, 4, 5), (6, 7, 8),  # Horizontal\n",
    "        (0, 3, 6), (1, 4, 7), (2, 5, 8),  # Vertical\n",
    "        (0, 4, 8), (2, 4, 6)              # Diagonal\n",
    "    ]\n",
    "    \n",
    "    # Verifica cada combinación para ambos jugadores\n",
    "    for jugador in [1, -1]: # [ Jugadores ]\n",
    "        for c in combinaciones_ganadoras:\n",
    "            if all(gatoInterno[i] == jugador for i in c):\n",
    "                return jugador\n",
    "                \n",
    "    # Si no se encuentra ganador, retorna 0\n",
    "    return 0"
   ]
  },
 {
   "cell_type": "code",
   "execution_count": null,
   "metadata": {},
   "outputs": [],
   "source": [
    "\"\"\"\n",
    class nodoGato:
    def __init__(self, turno=0, tableros=None, gatosInternos=None, espaciosDisp=None, hijos=None, valor_heuristico=0):
        if tableros is None: # Tablero vacío inicial
            tableros = [0, 0, 0, 0, 0, 0, 0, 0, 0] 
        if gatosInternos is None: # Gatos internos vacíos iniciales
            gatosInternos = [[0, 0, 0, 0, 0, 0, 0, 0, 0] for i in range(9)] 
        if espaciosDisp is None: # Espacios disponibles completos para cada gato
            espaciosDisp = [9 for i in range(9)]
        if hijos is None: # Lista vacía de hijos
            hijos = []
        
        self.turno = turno # Especifica de quien es el turno
        self.tableros = tableros # Representacion del tablero
        self.gatosInternos = gatosInternos # Matriz que representa el juego actual
        self.espaciosDisp = espaciosDisp # Arreglo de espacios disponibles para cada gato
        self.hijos = hijos # Arreglo de hijos del nodo
        self.valor_heuristico = valor_heuristico # Valor  heurístico del estado actual
   ]
  }
 ],
 "metadata": {
  "language_info": {
   "name": "python"
  }
 },
 "nbformat": 4,
 "nbformat_minor": 2
}
