{
 "cells": [
  {
   "cell_type": "markdown",
   "metadata": {},
   "source": [
    "---\n",
    "\n",
    "### Funcion Checar Ganar"
   ]
  },
  {
   "cell_type": "code",
   "execution_count": 15,
   "metadata": {},
   "outputs": [],
   "source": [
    "\"\"\"\n",
    "Verifica si hay algún ganador en un juego de gato.\n",
    "\n",
    "Parametros:\n",
    "    - gatoInterno: [arreglo] es el juego de gato a evaluar\n",
    "Return:\n",
    "    - [int] El jugador ganador (1 o -1), o 0 si no hay ganador\n",
    "\"\"\"\n",
    "def checarGanar(gatoInterno):\n",
    "    # Posibles combinaciones ganadoras\n",
    "    combinaciones_ganadoras = [\n",
    "        (0, 1, 2), (3, 4, 5), (6, 7, 8),  # Horizontal\n",
    "        (0, 3, 6), (1, 4, 7), (2, 5, 8),  # Vertical\n",
    "        (0, 4, 8), (2, 4, 6)              # Diagonal\n",
    "    ]\n",
    "    \n",
    "    # Verifica cada combinación para ambos jugadores\n",
    "    for jugador in [1, -1]: # [ Jugadores ]\n",
    "        for c in combinaciones_ganadoras:\n",
    "            if all(gatoInterno[i] == jugador for i in c):\n",
    "                return jugador\n",
    "                \n",
    "    # Si no se encuentra ganador, regresa 0\n",
    "    return 0"
   ]
  },
  {
   "cell_type": "markdown",
   "metadata": {},
   "source": [
    "<br>\n",
    "\n",
    "---\n",
    "\n",
    "### Clase nodoGato"
   ]
  },
  {
   "cell_type": "code",
   "execution_count": 32,
   "metadata": {},
   "outputs": [],
   "source": [
    "\"\"\"\n",
    "Clase nodoGato\n",
    "\"\"\"\n",
    "class nodoGato:\n",
    "\n",
    "    \"\"\"\n",
    "    Constructor\n",
    "    \"\"\"\n",
    "    def __init__(self, turno=0, tableros=None, gatosInternos=None, espaciosDisp=None, hijos=None, valor_heuristico=0):\n",
    "        if tableros is None: # Tablero vacío inicial\n",
    "            tableros = [0, 0, 0, 0, 0, 0, 0, 0, 0] \n",
    "        if gatosInternos is None: # Gatos internos vacíos iniciales\n",
    "            gatosInternos = [[0, 0, 0, 0, 0, 0, 0, 0, 0] for i in range(9)] \n",
    "        if espaciosDisp is None: # Espacios disponibles completos para cada gato\n",
    "            espaciosDisp = [9 for i in range(9)]\n",
    "        if hijos is None: # Lista vacía de hijos\n",
    "            hijos = []\n",
    "        \n",
    "        self.turno = turno # Especifica de quien es el turno\n",
    "        self.tableros = tableros # Representacion del tablero\n",
    "        self.gatosInternos = gatosInternos # Matriz que representa el juego actual\n",
    "        self.espaciosDisp = espaciosDisp # Arreglo de espacios disponibles para cada gato\n",
    "        self.hijos = hijos # Arreglo de hijos del nodo\n",
    "        self.valor_heuristico = valor_heuristico # Valor  heurístico del estado actual\n",
    "\n",
    "    \n",
    "    \"\"\"\n",
    "    Este es equivalente a un \"get hijos\". \n",
    "    Genera todos los movimientos posibles desde el estado actual del juego.\n",
    "\n",
    "    Parametros:\n",
    "        - jugada: [tupla] jugada previa (pos gatoExterior, pos gatoInterior)\n",
    "        - turno: [int] (1 o -1 para cada jugador)\n",
    "    Return:\n",
    "        - Nodos de posibles movimientos\n",
    "    \"\"\"\n",
    "    def movimientosPosibles(self, jugada, turno):\n",
    "\n",
    "            # Llamamos al tablero y juegos internos del nodo\n",
    "            tablero = self.tableros\n",
    "            juego  = self.gatosInternos\n",
    "            espaciosDisp = self.espaciosDisp\n",
    "\n",
    "            gato_interno = juego[jugada[0]] # Llamamos al gato interno de la jugada previa\n",
    "            movimientos =[] # Arreglo para almacenar nodos hijos\n",
    "\n",
    "            # Regresa los índices de los espacios vacíos del gato interno\n",
    "            blanks = [i for i, valor in enumerate(gato_interno) if valor == 0]\n",
    "            nuevos_espaciosDisp = espaciosDisp.copy()\n",
    "\n",
    "            # Para cada espacio vacío\n",
    "            for espacio in blanks:\n",
    "                nuevos_espaciosDisp[jugada[0]] -= 1\n",
    "                juego_hijo = juego.copy() # Copiamos el juego\n",
    "                gato_hijo = gato_interno.copy() # Copiamos el gato interno\n",
    "                gato_hijo[espacio] = turno # Marcamos el movimiento en el gato interno\n",
    "\n",
    "                juego_hijo[jugada[0]] = gato_hijo # Sustituímos el gato interno por el del nuevo movimiento\n",
    "\n",
    "                # Crea el nuevo nodo\n",
    "                nuevo_nodo = nodoGato(turno=-(turno), # Determinamos que el turno es del siguiente jugador\n",
    "                                    tableros=tablero, # Tablero se queda igual\n",
    "                                    gatosInternos=juego_hijo, # Se determina el nuevo juego modificado\n",
    "                                    espaciosDisp=nuevos_espaciosDisp, # Le restamos un espacio disponible al gato interno\n",
    "                                    valor_heuristico=self.valor_heuristico) # Dejamos el valor heurístico como está\n",
    "                movimientos.append(nuevo_nodo)\n",
    "\n",
    "            return movimientos\n",
    "    \n",
    "    \n",
    "    \"\"\"\n",
    "    Esta función verifica si una jugada se puede realizar en un tablero específico del gato.\n",
    "    No se puede jugar en un gato interno que haya sido totalmente ocupado o que ya lo haya ganado un jugador.\n",
    "\n",
    "    Parámetros:\n",
    "        - jugada: [tupla] jugada previa (pos gatoExterior, pos gatoInterior)\n",
    "    Return:\n",
    "        - valid: [booleano] regresa si es válido jugar en el gato interno.\n",
    "    \"\"\"\n",
    "    # Puedo usar la bandera en el segundo if\n",
    "    def validarJugada(self, jugada):\n",
    "        valid = True\n",
    "\n",
    "        tablero = self.tableros # Llamamos al tablero\n",
    "        if(tablero[jugada[0]] != 0): # Si el gato interno ya está ganado por un jugador, no se puede jugar ahí\n",
    "            valid = False\n",
    "        \n",
    "        gato_interno = self.gatosInternos[jugada[0]] # Llamamos al gato interno\n",
    "        if(all(valor != 0 for valor in gato_interno)): # Si ya se tiró en todas las casillas, no se puede jugar ahí\n",
    "            valid = False\n",
    "        \n",
    "        return valid\n",
    "    \n",
    "    \n",
    "    \"\"\"\n",
    "    Esta función evalúa si el nodo es un Estado Final.\n",
    "\n",
    "    Regresa fin [booleano]: indica si ya se terminó el juego.\n",
    "    \"\"\"\n",
    "    # Puedo usar la bandera en el segundo if\n",
    "    def estadoFinal(self):\n",
    "        fin = False\n",
    "\n",
    "        tablero = self.tableros # Llamamos al tablero\n",
    "        ganador = checarGanar(tablero) # Verificamos si hay un ganador\n",
    "        \n",
    "        #Checamos:\n",
    "        if(ganador != 0): # Si ya se ganó el juego\n",
    "            fin = True\n",
    "        if(all(valor != 0 for valor in tablero)): # Si ya se llenó el gato\n",
    "            fin = True\n",
    "\n",
    "        return fin"
   ]
  },
  {
   "cell_type": "code",
   "execution_count": 33,
   "metadata": {},
   "outputs": [],
   "source": [
    "nodo = nodoGato()"
   ]
  },
  {
   "cell_type": "code",
   "execution_count": 34,
   "metadata": {},
   "outputs": [
    {
     "data": {
      "text/plain": [
       "[0, 0, 0, 0, 0, 0, 0, 0, 0]"
      ]
     },
     "execution_count": 34,
     "metadata": {},
     "output_type": "execute_result"
    }
   ],
   "source": [
    "nodo.tableros"
   ]
  },
  {
   "cell_type": "code",
   "execution_count": 35,
   "metadata": {},
   "outputs": [
    {
     "data": {
      "text/plain": [
       "[[0, 0, 0, 0, 0, 0, 0, 0, 0],\n",
       " [0, 0, 0, 0, 0, 0, 0, 0, 0],\n",
       " [0, 0, 0, 0, 0, 0, 0, 0, 0],\n",
       " [0, 0, 0, 0, 0, 0, 0, 0, 0],\n",
       " [0, 0, 0, 0, 0, 0, 0, 0, 0],\n",
       " [0, 0, 0, 0, 0, 0, 0, 0, 0],\n",
       " [0, 0, 0, 0, 0, 0, 0, 0, 0],\n",
       " [0, 0, 0, 0, 0, 0, 0, 0, 0],\n",
       " [0, 0, 0, 0, 0, 0, 0, 0, 0]]"
      ]
     },
     "execution_count": 35,
     "metadata": {},
     "output_type": "execute_result"
    }
   ],
   "source": [
    "nodo.gatosInternos"
   ]
  },
  {
   "cell_type": "code",
   "execution_count": 36,
   "metadata": {},
   "outputs": [],
   "source": [
    "hijos = nodo.movimientosPosibles((0,0),-1)"
   ]
  },
  {
   "cell_type": "code",
   "execution_count": 37,
   "metadata": {},
   "outputs": [
    {
     "name": "stdout",
     "output_type": "stream",
     "text": [
      "\n",
      " 9 hijos: \n",
      "\n",
      "[-1, 0, 0, 0, 0, 0, 0, 0, 0], 8 espacios\n",
      "[0, -1, 0, 0, 0, 0, 0, 0, 0], 8 espacios\n",
      "[0, 0, -1, 0, 0, 0, 0, 0, 0], 8 espacios\n",
      "[0, 0, 0, -1, 0, 0, 0, 0, 0], 8 espacios\n",
      "[0, 0, 0, 0, -1, 0, 0, 0, 0], 8 espacios\n",
      "[0, 0, 0, 0, 0, -1, 0, 0, 0], 8 espacios\n",
      "[0, 0, 0, 0, 0, 0, -1, 0, 0], 8 espacios\n",
      "[0, 0, 0, 0, 0, 0, 0, -1, 0], 8 espacios\n",
      "[0, 0, 0, 0, 0, 0, 0, 0, -1], 8 espacios\n"
     ]
    }
   ],
   "source": [
    "print(f'\\n {len(hijos)} hijos: \\n') # Esperamos que tenga 9 hijos, pues no hay jugada en el juego\n",
    "\n",
    "for i in range(len(hijos)):\n",
    "    print(f'{hijos[i].gatosInternos[0]}, {hijos[i].espaciosDisp} espacios')"
   ]
  },
  {
   "cell_type": "code",
   "execution_count": 39,
   "metadata": {},
   "outputs": [],
   "source": [
    "tablero_prueba = [0,1,0,0,1,0,0,1,0] # Se ganó la línea central vertical (ya se ganó el juego)\n",
    "gato_prueba = [[1,0,-1,0,1,0,1,0,0], # pos0: todavía hay jugadas disponibles\n",
    "               [1,0,0,1,0,0,1,0,0],\n",
    "               [1,-1,-1,-1,-1,1,1,1,-1], # pos2: Empate\n",
    "               [0,0,0,0,0,0,0,0,0],\n",
    "               [1,0,0,1,0,0,1,0,0], # pos4: Ganador\n",
    "               [0,0,0,0,0,0,0,0,0],\n",
    "               [0,0,0,0,0,0,0,0,0],\n",
    "               [1,0,0,1,0,0,1,0,0],\n",
    "               [0,0,0,0,0,0,0,0,0]]\n",
    "\n",
    "nodo.gatosInternos = gato_prueba\n",
    "nodo.tableros = tablero_prueba\n",
    "nodo.espaciosDisp[0] = 5"
   ]
  },
  {
   "cell_type": "code",
   "execution_count": 40,
   "metadata": {},
   "outputs": [],
   "source": [
    "hijos = nodo.movimientosPosibles((0,0),1)"
   ]
  },
  {
   "cell_type": "code",
   "execution_count": 41,
   "metadata": {},
   "outputs": [
    {
     "name": "stdout",
     "output_type": "stream",
     "text": [
      "\n",
      " 5 hijos: \n",
      "\n",
      "[1, 1, -1, 0, 1, 0, 1, 0, 0], 4 espacios\n",
      "[1, 0, -1, 1, 1, 0, 1, 0, 0], 4 espacios\n",
      "[1, 0, -1, 0, 1, 1, 1, 0, 0], 4 espacios\n",
      "[1, 0, -1, 0, 1, 0, 1, 1, 0], 4 espacios\n",
      "[1, 0, -1, 0, 1, 0, 1, 0, 1], 4 espacios\n"
     ]
    }
   ],
   "source": [
    "# Ahora esperamos que tenga 5 hijos\n",
    "print(f'\\n {len(hijos)} hijos: \\n')\n",
    "\n",
    "for i in range(len(hijos)):\n",
    "    print(f'{hijos[i].gatosInternos[0]}, {hijos[i].espaciosDisp} espacios')"
   ]
  },
  {
   "cell_type": "code",
   "execution_count": 25,
   "metadata": {},
   "outputs": [
    {
     "data": {
      "text/plain": [
       "True"
      ]
     },
     "execution_count": 25,
     "metadata": {},
     "output_type": "execute_result"
    }
   ],
   "source": [
    "# Sí se puede jugar, hay espacios disponibles y nadie ha ganado\n",
    "validar = nodo.validarJugada((0,1))\n",
    "validar"
   ]
  },
  {
   "cell_type": "code",
   "execution_count": 77,
   "metadata": {},
   "outputs": [
    {
     "data": {
      "text/plain": [
       "False"
      ]
     },
     "execution_count": 77,
     "metadata": {},
     "output_type": "execute_result"
    }
   ],
   "source": [
    "# No se puede jugar, se ha llenado el gato\n",
    "validar = nodo.validarJugada((2,1))\n",
    "validar"
   ]
  },
  {
   "cell_type": "code",
   "execution_count": 78,
   "metadata": {},
   "outputs": [
    {
     "data": {
      "text/plain": [
       "False"
      ]
     },
     "execution_count": 78,
     "metadata": {},
     "output_type": "execute_result"
    }
   ],
   "source": [
    "# No se puede jugar, ya se ganó el gato\n",
    "validar = nodo.validarJugada((4,1))\n",
    "validar"
   ]
  },
  {
   "cell_type": "code",
   "execution_count": 79,
   "metadata": {},
   "outputs": [
    {
     "data": {
      "text/plain": [
       "True"
      ]
     },
     "execution_count": 79,
     "metadata": {},
     "output_type": "execute_result"
    }
   ],
   "source": [
    "# Verifiquemos si ya se terminó el juego\n",
    "# Debe regresar True porque sí ya se ganó\n",
    "edoFinal = nodo.estadoFinal()\n",
    "edoFinal"
   ]
  },
  {
   "cell_type": "code",
   "execution_count": 82,
   "metadata": {},
   "outputs": [
    {
     "data": {
      "text/plain": [
       "False"
      ]
     },
     "execution_count": 82,
     "metadata": {},
     "output_type": "execute_result"
    }
   ],
   "source": [
    "# Supongamos que no se ha ganado el juego\n",
    "tablero_prueba = [1,-1,-1,-1,-1,0,1,1,-1]\n",
    "nodo.tableros = tablero_prueba\n",
    "\n",
    "edoFinal = nodo.estadoFinal()\n",
    "edoFinal"
   ]
  },
  {
   "cell_type": "code",
   "execution_count": 84,
   "metadata": {},
   "outputs": [
    {
     "data": {
      "text/plain": [
       "True"
      ]
     },
     "execution_count": 84,
     "metadata": {},
     "output_type": "execute_result"
    }
   ],
   "source": [
    "# Supongamos que se empató el juego\n",
    "tablero_prueba = [1,-1,-1,-1,-1,1,1,1,-1]\n",
    "nodo.tableros = tablero_prueba\n",
    "\n",
    "edoFinal = nodo.estadoFinal()\n",
    "edoFinal"
   ]
  }
 ],
 "metadata": {
  "kernelspec": {
   "display_name": "base",
   "language": "python",
   "name": "python3"
  },
  "language_info": {
   "codemirror_mode": {
    "name": "ipython",
    "version": 3
   },
   "file_extension": ".py",
   "mimetype": "text/x-python",
   "name": "python",
   "nbconvert_exporter": "python",
   "pygments_lexer": "ipython3",
   "version": "3.9.7"
  }
 },
 "nbformat": 4,
 "nbformat_minor": 2
}
