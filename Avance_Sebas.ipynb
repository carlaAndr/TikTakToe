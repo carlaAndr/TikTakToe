{
 "cells": [
  {
   "cell_type": "code",
   "execution_count": null,
   "metadata": {},
   "outputs": [],
   "source": [
    "\"\"\"\n",
    "Verifica si hay algún ganador en un juego de gato.\n",
    "\n",
    "Parametros:\n",
    "    - gatoInterno: [arreglo] es el juego de gato a evaluar\n",
    "Return:\n",
    "    - [int] El jugador ganador (1 o -1), o 0 si no hay ganador\n",
    "\"\"\"\n",
    "def checarGanar(gatoInterno):\n",
    "    # Posibles combinaciones ganadoras\n",
    "    combinaciones_ganadoras = [\n",
    "        (0, 1, 2), (3, 4, 5), (6, 7, 8),  # Horizontal\n",
    "        (0, 3, 6), (1, 4, 7), (2, 5, 8),  # Vertical\n",
    "        (0, 4, 8), (2, 4, 6)              # Diagonal\n",
    "    ]\n",
    "    \n",
    "    # Verifica cada combinación para ambos jugadores\n",
    "    for jugador in [1, -1]: # [ Jugadores ]\n",
    "        for c in combinaciones_ganadoras:\n",
    "            if all(gatoInterno[i] == jugador for i in c):\n",
    "                return jugador\n",
    "                \n",
    "    # Si no se encuentra ganador, retorna 0\n",
    "    return 0"
   ]
  }
 ],
 "metadata": {
  "language_info": {
   "name": "python"
  }
 },
 "nbformat": 4,
 "nbformat_minor": 2
}
